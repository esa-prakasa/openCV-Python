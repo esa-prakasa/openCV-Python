{
  "nbformat": 4,
  "nbformat_minor": 0,
  "metadata": {
    "colab": {
      "name": "python_measure_computing_time.ipynb",
      "provenance": [],
      "collapsed_sections": [],
      "include_colab_link": true
    },
    "kernelspec": {
      "name": "python3",
      "display_name": "Python 3"
    }
  },
  "cells": [
    {
      "cell_type": "markdown",
      "metadata": {
        "id": "view-in-github",
        "colab_type": "text"
      },
      "source": [
        "<a href=\"https://colab.research.google.com/github/esa-prakasa/openCV-Python/blob/master/python_measure_computing_time.ipynb\" target=\"_parent\"><img src=\"https://colab.research.google.com/assets/colab-badge.svg\" alt=\"Open In Colab\"/></a>"
      ]
    },
    {
      "cell_type": "markdown",
      "metadata": {
        "id": "nzbH1N9Jq1oE",
        "colab_type": "text"
      },
      "source": [
        "# **First Method**\n",
        "This code is used to display elapsed time of a certain task. Here, the task aims to assign element value of matrix b using loop function. The size of matrix b is stored in variable a. Triple apostrophe is required to mark the start and end points of the observed instructions. By using timeit.timeit () function the elapsed time can be extratcted. I put 1 to variable \"number\" in order to conduct the observed instructions only in a single run (without more loops). You may put a value more than 1, for example 3. Then, the observed instructions will be run three times. Off course, it can spend computing time longer (around 3 times greater) compared to previous setting value (\"number\" equals 1). [1]\n",
        " "
      ]
    },
    {
      "cell_type": "code",
      "metadata": {
        "id": "B01hXQtdo5Kp",
        "colab_type": "code",
        "colab": {}
      },
      "source": [
        "import timeit\n",
        "code_to_test = \"\"\"\n",
        "a = range(1000)\n",
        "b = []\n",
        "for i in a:\n",
        "    b.append(i*2)\n",
        "\"\"\"\n",
        "elapsed_time = timeit.timeit(code_to_test, number=1)\n",
        "print(elapsed_time)\n",
        "\n",
        "# This code will give elapsed_time of 0.00010086799989039719"
      ],
      "execution_count": 0,
      "outputs": []
    },
    {
      "cell_type": "markdown",
      "metadata": {
        "id": "fU614FHfwJAo",
        "colab_type": "text"
      },
      "source": [
        "# Second Method\n",
        "Another method can be applied to calculate the computing time. The original version of this code is presented in [2]. Function of format() is used to limit number of digits for the computing time."
      ]
    },
    {
      "cell_type": "code",
      "metadata": {
        "id": "nSB0QhOjwaUk",
        "colab_type": "code",
        "colab": {
          "base_uri": "https://localhost:8080/",
          "height": 87
        },
        "outputId": "8efefd79-8b03-4c02-984c-6c8798c210c4"
      },
      "source": [
        "import time\n",
        "# create a summation function \n",
        "\n",
        "def sum_of_n_numbers(n):\n",
        "    start_time = time.time()\n",
        "    s = 0\n",
        "    for i in range(1,n+1):\n",
        "        s = s + i\n",
        "    end_time = time.time()\n",
        "    return s,end_time-start_time\n",
        "\n",
        "n = 5\n",
        "a = sum_of_n_numbers(n)\n",
        "print(\"\\nTime to sum of 1 to \",n,\" and required time to calculate \",a[0],\" is :\",a[1])\n",
        "\n",
        "\n",
        "n = 10000\n",
        "a = sum_of_n_numbers(n)\n",
        "print(\"\\nTime to sum of 1 to \",n,\" and required time to calculate \",a[0],\" is :\",\"{:3.5f}\".format(a[1]))\n"
      ],
      "execution_count": 10,
      "outputs": [
        {
          "output_type": "stream",
          "text": [
            "\n",
            "Time to sum of 1 to  5  and required time to calculate  15  is : 2.6226043701171875e-06\n",
            "\n",
            "Time to sum of 1 to  10000  and required time to calculate  50005000  is : 0.00066\n"
          ],
          "name": "stdout"
        }
      ]
    },
    {
      "cell_type": "markdown",
      "metadata": {
        "id": "TTUeGfT9qugW",
        "colab_type": "text"
      },
      "source": [
        "**References:**\n",
        "\n",
        "[1] https://pythonhow.com/measure-execution-time-python-code/\n",
        "[2] https://www.w3resource.com/python-exercises/python-basic-exercise-57.php\n"
      ]
    }
  ]
}