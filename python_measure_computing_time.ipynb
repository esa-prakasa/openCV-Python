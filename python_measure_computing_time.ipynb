{
  "nbformat": 4,
  "nbformat_minor": 0,
  "metadata": {
    "colab": {
      "name": "python_measure_computing_time.ipynb",
      "provenance": [],
      "include_colab_link": true
    },
    "kernelspec": {
      "name": "python3",
      "display_name": "Python 3"
    }
  },
  "cells": [
    {
      "cell_type": "markdown",
      "metadata": {
        "id": "view-in-github",
        "colab_type": "text"
      },
      "source": [
        "<a href=\"https://colab.research.google.com/github/esa-prakasa/openCV-Python/blob/master/python_measure_computing_time.ipynb\" target=\"_parent\"><img src=\"https://colab.research.google.com/assets/colab-badge.svg\" alt=\"Open In Colab\"/></a>"
      ]
    },
    {
      "cell_type": "markdown",
      "metadata": {
        "id": "nzbH1N9Jq1oE",
        "colab_type": "text"
      },
      "source": [
        ""
      ]
    },
    {
      "cell_type": "code",
      "metadata": {
        "id": "B01hXQtdo5Kp",
        "colab_type": "code",
        "colab": {
          "base_uri": "https://localhost:8080/",
          "height": 35
        },
        "outputId": "22578b15-0220-4432-fbca-9051120da3d3"
      },
      "source": [
        "import timeit\n",
        "code_to_test = \"\"\"\n",
        "a = range(100)\n",
        "b = []\n",
        "for i in a:\n",
        "    b.append(i*2)\n",
        "\"\"\"\n",
        "elapsed_time = timeit.timeit(code_to_test, number=1)\n",
        "print(elapsed_time)\n",
        "\n",
        "# 0.011554634600000781"
      ],
      "execution_count": 11,
      "outputs": [
        {
          "output_type": "stream",
          "text": [
            "0.02075099900002897\n"
          ],
          "name": "stdout"
        }
      ]
    },
    {
      "cell_type": "markdown",
      "metadata": {
        "id": "TTUeGfT9qugW",
        "colab_type": "text"
      },
      "source": [
        "Reference:\n",
        "\n",
        "[1] https://pythonhow.com/measure-execution-time-python-code/\n"
      ]
    }
  ]
}