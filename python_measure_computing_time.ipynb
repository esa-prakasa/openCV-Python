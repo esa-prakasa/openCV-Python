{
  "nbformat": 4,
  "nbformat_minor": 0,
  "metadata": {
    "colab": {
      "name": "python_measure_computing_time.ipynb",
      "provenance": [],
      "include_colab_link": true
    },
    "kernelspec": {
      "name": "python3",
      "display_name": "Python 3"
    }
  },
  "cells": [
    {
      "cell_type": "markdown",
      "metadata": {
        "id": "view-in-github",
        "colab_type": "text"
      },
      "source": [
        "<a href=\"https://colab.research.google.com/github/esa-prakasa/openCV-Python/blob/master/python_measure_computing_time.ipynb\" target=\"_parent\"><img src=\"https://colab.research.google.com/assets/colab-badge.svg\" alt=\"Open In Colab\"/></a>"
      ]
    },
    {
      "cell_type": "markdown",
      "metadata": {
        "id": "nzbH1N9Jq1oE",
        "colab_type": "text"
      },
      "source": [
        "# **First Method**\n",
        "This code is used to display elapsed time of a certain task. Here, the task aims to assign element value of matrix b using loop function. The size of matrix b is stored in variable a. Triple apostrophe is required to mark the start and end points of the observed instructions. By using timeit.timeit () function the elapsed time can be extratcted. I put 1 to variable \"number\" in order to conduct the observed instructions only in a single run (without more loops). You may put a value more than 1, for example 3. Then, the observed instructions will be run three times. Off course, it can spend computing time longer (around 3 times greater) compared to previous setting value (\"number\" equals 1). [1]\n",
        " "
      ]
    },
    {
      "cell_type": "code",
      "metadata": {
        "id": "B01hXQtdo5Kp",
        "colab_type": "code",
        "colab": {}
      },
      "source": [
        "import timeit\n",
        "code_to_test = \"\"\"\n",
        "a = range(1000)\n",
        "b = []\n",
        "for i in a:\n",
        "    b.append(i*2)\n",
        "\"\"\"\n",
        "elapsed_time = timeit.timeit(code_to_test, number=1)\n",
        "print(elapsed_time)\n",
        "\n",
        "# This code will give elapsed_time of 0.00010086799989039719"
      ],
      "execution_count": 0,
      "outputs": []
    },
    {
      "cell_type": "markdown",
      "metadata": {
        "id": "TTUeGfT9qugW",
        "colab_type": "text"
      },
      "source": [
        "Reference:\n",
        "\n",
        "[1] https://pythonhow.com/measure-execution-time-python-code/\n"
      ]
    }
  ]
}